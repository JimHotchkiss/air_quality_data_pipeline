{
 "cells": [
  {
   "cell_type": "code",
   "execution_count": 29,
   "metadata": {},
   "outputs": [],
   "source": [
    "import json\n",
    "from openaq import OpenAQ"
   ]
  },
  {
   "cell_type": "code",
   "execution_count": 30,
   "metadata": {},
   "outputs": [],
   "source": [
    "# Access our API KEY \n",
    "with open(\"../secrets.json\") as f:\n",
    "    secrets = json.load(f)\n",
    "    # Close the file f - Accordering to Chat, this .close() is unnecessary.\n",
    "    # The file is closed when the the 'with' block ends\n",
    "    f.close()\n",
    "\n",
    "    # Access the API Key\n",
    "    openaq_key = secrets[\"openaq-api-keg\"]\n"
   ]
  },
  {
   "cell_type": "code",
   "execution_count": 31,
   "metadata": {},
   "outputs": [
    {
     "name": "stdout",
     "output_type": "stream",
     "text": [
      "<openaq._sync.client.OpenAQ object at 0x1114aa590>\n"
     ]
    }
   ],
   "source": [
    "# Open up a openaq client\n",
    "client = OpenAQ(api_key=openaq_key)\n",
    "print(client)"
   ]
  },
  {
   "cell_type": "code",
   "execution_count": 32,
   "metadata": {},
   "outputs": [
    {
     "data": {
      "text/plain": [
       "Meta(name='openaq-api', website='/', page=1, limit=1000, found=291)"
      ]
     },
     "execution_count": 32,
     "metadata": {},
     "output_type": "execute_result"
    }
   ],
   "source": [
    "bay_area_bbox_search_location = client.locations.list(\n",
    "    bbox = (-122.958598,37.455970,-121.783061,38.202222),\n",
    "    limit=1000\n",
    ")\n",
    "bay_area_bbox_search_location.meta\n"
   ]
  },
  {
   "cell_type": "code",
   "execution_count": 33,
   "metadata": {},
   "outputs": [
    {
     "data": {
      "text/plain": [
       "{'id': 1311,\n",
       " 'name': 'Laney College',\n",
       " 'locality': 'San Francisco-Oakland-Fremont',\n",
       " 'timezone': 'America/Los_Angeles',\n",
       " 'country': CountryBase(id=155, code='US', name='United States'),\n",
       " 'owner': OwnerBase(id=4, name='Unknown Governmental Organization'),\n",
       " 'provider': ProviderBase(id=119, name='AirNow'),\n",
       " 'is_mobile': False,\n",
       " 'is_monitor': True,\n",
       " 'instruments': [InstrumentBase(id=2, name='Government Monitor')],\n",
       " 'sensors': [SensorBase(id=2365, name='bc µg/m³', parameter=ParameterBase(id=11, name='bc', units='µg/m³', display_name='BC')),\n",
       "  SensorBase(id=2363, name='co ppm', parameter=ParameterBase(id=8, name='co', units='ppm', display_name='CO')),\n",
       "  SensorBase(id=4272445, name='no ppm', parameter=ParameterBase(id=35, name='no', units='ppm', display_name='NO')),\n",
       "  SensorBase(id=2364, name='no2 ppm', parameter=ParameterBase(id=7, name='no2', units='ppm', display_name='NO₂')),\n",
       "  SensorBase(id=4272331, name='nox ppm', parameter=ParameterBase(id=19840, name='nox', units='ppm', display_name='NOx')),\n",
       "  SensorBase(id=2366, name='pm25 µg/m³', parameter=ParameterBase(id=2, name='pm25', units='µg/m³', display_name='PM2.5'))],\n",
       " 'coordinates': Coordinates(latitude=37.793624, longitude=-122.263376),\n",
       " 'bounds': [-122.263376, 37.793624, -122.263376, 37.793624],\n",
       " 'distance': None,\n",
       " 'datetime_first': Datetime(utc='2016-03-06T20:00:00Z', local='2016-03-06T12:00:00-08:00'),\n",
       " 'datetime_last': Datetime(utc='2025-01-31T22:00:00Z', local='2025-01-31T14:00:00-08:00')}"
      ]
     },
     "execution_count": 33,
     "metadata": {},
     "output_type": "execute_result"
    }
   ],
   "source": [
    "bay_area_bbox_search_location.results[0].__dict__"
   ]
  },
  {
   "cell_type": "code",
   "execution_count": 34,
   "metadata": {},
   "outputs": [],
   "source": [
    "locations_info = {}\n",
    "\n",
    "for location in bay_area_bbox_search_location.results:\n",
    "    locations_info[location.id] = location.name\n"
   ]
  },
  {
   "cell_type": "code",
   "execution_count": 35,
   "metadata": {},
   "outputs": [],
   "source": [
    "# Create locations.json file and transform to json file. \n",
    "# We also want to use utf-8 which gives us more flexibility with characters\n",
    "with open(\"../locations.json\", \"w\", encoding=\"utf-8\") as f:\n",
    "    json.dump(locations_info, f, ensure_ascii=False, indent=4)\n",
    "    f.close"
   ]
  }
 ],
 "metadata": {
  "kernelspec": {
   "display_name": ".venv",
   "language": "python",
   "name": "python3"
  },
  "language_info": {
   "codemirror_mode": {
    "name": "ipython",
    "version": 3
   },
   "file_extension": ".py",
   "mimetype": "text/x-python",
   "name": "python",
   "nbconvert_exporter": "python",
   "pygments_lexer": "ipython3",
   "version": "3.11.7"
  }
 },
 "nbformat": 4,
 "nbformat_minor": 2
}
