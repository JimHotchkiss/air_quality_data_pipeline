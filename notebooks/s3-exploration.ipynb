{
 "cells": [
  {
   "cell_type": "code",
   "execution_count": 40,
   "metadata": {},
   "outputs": [],
   "source": [
    "import duckdb as ddb\n"
   ]
  },
  {
   "cell_type": "code",
   "execution_count": 41,
   "metadata": {},
   "outputs": [],
   "source": [
    "# To interact with S3 (AWS) we'll install httpfs to allow data download from https and http connections\n",
    "ddb.sql(\"INSTALL httpfs; LOAD httpfs\")"
   ]
  },
  {
   "cell_type": "code",
   "execution_count": 42,
   "metadata": {},
   "outputs": [
    {
     "data": {
      "text/plain": [
       "<duckdb.duckdb.DuckDBPyConnection at 0x10733e4f0>"
      ]
     },
     "execution_count": 42,
     "metadata": {},
     "output_type": "execute_result"
    }
   ],
   "source": [
    "# Connect to a Duckdb database. This will create the database file in our fie structure\n",
    "con = ddb.connect(\"../air_quality.db\")\n",
    "con"
   ]
  },
  {
   "cell_type": "code",
   "execution_count": 43,
   "metadata": {},
   "outputs": [
    {
     "data": {
      "text/plain": [
       "<duckdb.duckdb.DuckDBPyConnection at 0x10733e4f0>"
      ]
     },
     "execution_count": 43,
     "metadata": {},
     "output_type": "execute_result"
    }
   ],
   "source": [
    "# Create a new schema in the database\n",
    "# The .execute directly executes the sql\n",
    "# 'raw' is what we are naming this schema\n",
    "con.execute(\"CREATE schema IF NOT EXISTS raw\")"
   ]
  },
  {
   "cell_type": "code",
   "execution_count": 44,
   "metadata": {},
   "outputs": [],
   "source": [
    "# When using AWS S3, Duckdb looks for credentials.\n",
    "# The S3 we're using is public\n",
    "# But we'll still need the credential fields \n",
    "con.sql(\"\"\" \n",
    "    SET s3_access_key_id='';\n",
    "    SET s3_secret_access_key='';\n",
    "    SET s3_region='';\n",
    "\"\"\")\n"
   ]
  },
  {
   "cell_type": "code",
   "execution_count": 50,
   "metadata": {},
   "outputs": [
    {
     "ename": "ConnectionException",
     "evalue": "Connection Error: Connection already closed!",
     "output_type": "error",
     "traceback": [
      "\u001b[0;31m---------------------------------------------------------------------------\u001b[0m",
      "\u001b[0;31mConnectionException\u001b[0m                       Traceback (most recent call last)",
      "Cell \u001b[0;32mIn[50], line 3\u001b[0m\n\u001b[1;32m      1\u001b[0m \u001b[38;5;66;03m# Create Table\u001b[39;00m\n\u001b[1;32m      2\u001b[0m \u001b[38;5;66;03m# Note: Words with double quotes, distinquishes between ddb's key words\u001b[39;00m\n\u001b[0;32m----> 3\u001b[0m \u001b[43mcon\u001b[49m\u001b[38;5;241;43m.\u001b[39;49m\u001b[43mexecute\u001b[49m\u001b[43m(\u001b[49m\u001b[38;5;124;43m\"\"\"\u001b[39;49m\n\u001b[1;32m      4\u001b[0m \u001b[38;5;124;43m    CREATE TABLE raw.air_quality (\u001b[39;49m\n\u001b[1;32m      5\u001b[0m \u001b[38;5;124;43m        location_id INTEGER,\u001b[39;49m\n\u001b[1;32m      6\u001b[0m \u001b[38;5;124;43m        sensors_id INTEGER,\u001b[39;49m\n\u001b[1;32m      7\u001b[0m \u001b[38;5;124;43m        \u001b[39;49m\u001b[38;5;124;43m\"\u001b[39;49m\u001b[38;5;124;43mlocation\u001b[39;49m\u001b[38;5;124;43m\"\u001b[39;49m\u001b[38;5;124;43m TEXT,\u001b[39;49m\n\u001b[1;32m      8\u001b[0m \u001b[38;5;124;43m        \u001b[39;49m\u001b[38;5;124;43m\"\u001b[39;49m\u001b[38;5;124;43mdatetime\u001b[39;49m\u001b[38;5;124;43m\"\u001b[39;49m\u001b[38;5;124;43m TIMESTAMP,\u001b[39;49m\n\u001b[1;32m      9\u001b[0m \u001b[38;5;124;43m        lat DOUBLE,\u001b[39;49m\n\u001b[1;32m     10\u001b[0m \u001b[38;5;124;43m        lon DOUBLE,\u001b[39;49m\n\u001b[1;32m     11\u001b[0m \u001b[38;5;124;43m        \u001b[39;49m\u001b[38;5;124;43m\"\u001b[39;49m\u001b[38;5;124;43mparameter\u001b[39;49m\u001b[38;5;124;43m\"\u001b[39;49m\u001b[38;5;124;43m TEXT,\u001b[39;49m\n\u001b[1;32m     12\u001b[0m \u001b[38;5;124;43m        units TEXT,\u001b[39;49m\n\u001b[1;32m     13\u001b[0m \u001b[38;5;124;43m        \u001b[39;49m\u001b[38;5;124;43m\"\u001b[39;49m\u001b[38;5;124;43mvalue\u001b[39;49m\u001b[38;5;124;43m\"\u001b[39;49m\u001b[38;5;124;43m DOUBLE,\u001b[39;49m\n\u001b[1;32m     14\u001b[0m \u001b[38;5;124;43m        \u001b[39;49m\u001b[38;5;124;43m\"\u001b[39;49m\u001b[38;5;124;43mmonth\u001b[39;49m\u001b[38;5;124;43m\"\u001b[39;49m\u001b[38;5;124;43m INTEGER,\u001b[39;49m\n\u001b[1;32m     15\u001b[0m \u001b[38;5;124;43m        \u001b[39;49m\u001b[38;5;124;43m\"\u001b[39;49m\u001b[38;5;124;43myear\u001b[39;49m\u001b[38;5;124;43m\"\u001b[39;49m\u001b[38;5;124;43m INTEGER,\u001b[39;49m\n\u001b[1;32m     16\u001b[0m \u001b[38;5;124;43m        ingestion_datetime TIMESTAMP DEFAULT current_timestamp\u001b[39;49m\n\u001b[1;32m     17\u001b[0m \u001b[38;5;124;43m    );\u001b[39;49m\n\u001b[1;32m     18\u001b[0m \u001b[38;5;124;43m\"\"\"\u001b[39;49m\u001b[43m)\u001b[49m\n",
      "\u001b[0;31mConnectionException\u001b[0m: Connection Error: Connection already closed!"
     ]
    }
   ],
   "source": [
    "# Create Table\n",
    "# Note: Words with double quotes, distinquishes between ddb's key words\n",
    "con.execute(\"\"\"\n",
    "    CREATE TABLE raw.air_quality (\n",
    "        location_id INTEGER,\n",
    "        sensors_id INTEGER,\n",
    "        \"location\" TEXT,\n",
    "        \"datetime\" TIMESTAMP,\n",
    "        lat DOUBLE,\n",
    "        lon DOUBLE,\n",
    "        \"parameter\" TEXT,\n",
    "        units TEXT,\n",
    "        \"value\" DOUBLE,\n",
    "        \"month\" INTEGER,\n",
    "        \"year\" INTEGER,\n",
    "        ingestion_datetime TIMESTAMP DEFAULT current_timestamp\n",
    "    );\n",
    "\"\"\")\n"
   ]
  },
  {
   "cell_type": "code",
   "execution_count": null,
   "metadata": {},
   "outputs": [
    {
     "data": {
      "application/vnd.jupyter.widget-view+json": {
       "model_id": "e1c3b3b1d64e4605a323c75c83e6e327",
       "version_major": 2,
       "version_minor": 0
      },
      "text/plain": [
       "FloatProgress(value=0.0, layout=Layout(width='auto'), style=ProgressStyle(bar_color='black'))"
      ]
     },
     "metadata": {},
     "output_type": "display_data"
    },
    {
     "data": {
      "text/plain": [
       "<duckdb.duckdb.DuckDBPyConnection at 0x10733e4f0>"
      ]
     },
     "execution_count": 48,
     "metadata": {},
     "output_type": "execute_result"
    }
   ],
   "source": [
    "con.execute(\"\"\"\n",
    "INSERT INTO raw.air_quality\n",
    "SELECT \n",
    "    location_id, \n",
    "    sensors_id, \n",
    "    \"location\", \n",
    "    \"datetime\", \n",
    "    lat, \n",
    "    lon, \n",
    "    \"parameter\", \n",
    "    units, \n",
    "    \"value\",\n",
    "    \"month\", \n",
    "    \"year\",\n",
    "    current_timestamp AS ingestion_datetime\n",
    "FROM read_csv('s3://openaq-data-archive/records/csv.gz/locationid=2009/year=2024/month=01/*.csv.gz');\n",
    "\"\"\")"
   ]
  },
  {
   "cell_type": "code",
   "execution_count": 49,
   "metadata": {},
   "outputs": [],
   "source": [
    "# Close the connection to Duckdb\n",
    "# Note: Duckdb does not allow concurrent writers to the db\n",
    "con.close()"
   ]
  }
 ],
 "metadata": {
  "kernelspec": {
   "display_name": ".venv",
   "language": "python",
   "name": "python3"
  },
  "language_info": {
   "codemirror_mode": {
    "name": "ipython",
    "version": 3
   },
   "file_extension": ".py",
   "mimetype": "text/x-python",
   "name": "python",
   "nbconvert_exporter": "python",
   "pygments_lexer": "ipython3",
   "version": "3.11.7"
  }
 },
 "nbformat": 4,
 "nbformat_minor": 2
}
